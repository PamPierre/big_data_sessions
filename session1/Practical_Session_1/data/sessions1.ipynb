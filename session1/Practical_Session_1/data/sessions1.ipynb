{
 "cells": [
  {
   "cell_type": "code",
   "execution_count": 2,
   "id": "d6a13235",
   "metadata": {},
   "outputs": [
    {
     "name": "stderr",
     "output_type": "stream",
     "text": [
      "21/11/04 14:29:56 WARN Utils: Your hostname, pamousso-Latitude-E5530-non-vPro resolves to a loopback address: 127.0.1.1; using 192.168.1.13 instead (on interface wlp2s0)\n",
      "21/11/04 14:29:56 WARN Utils: Set SPARK_LOCAL_IP if you need to bind to another address\n",
      "WARNING: An illegal reflective access operation has occurred\n",
      "WARNING: Illegal reflective access by org.apache.spark.unsafe.Platform (file:/usr/local/spark/spark-3.1.2-bin-hadoop3.2/jars/spark-unsafe_2.12-3.1.2.jar) to constructor java.nio.DirectByteBuffer(long,int)\n",
      "WARNING: Please consider reporting this to the maintainers of org.apache.spark.unsafe.Platform\n",
      "WARNING: Use --illegal-access=warn to enable warnings of further illegal reflective access operations\n",
      "WARNING: All illegal access operations will be denied in a future release\n",
      "21/11/04 14:29:56 WARN NativeCodeLoader: Unable to load native-hadoop library for your platform... using builtin-java classes where applicable\n",
      "Using Spark's default log4j profile: org/apache/spark/log4j-defaults.properties\n",
      "Setting default log level to \"WARN\".\n",
      "To adjust logging level use sc.setLogLevel(newLevel). For SparkR, use setLogLevel(newLevel).\n",
      "21/11/04 14:29:58 WARN Utils: Service 'SparkUI' could not bind on port 4040. Attempting port 4041.\n"
     ]
    }
   ],
   "source": [
    "import findspark\n",
    "findspark.init()\n",
    "import pyspark\n",
    "from pyspark.sql import SparkSession \n",
    "from math import ceil,fsum\n",
    "spark = SparkSession.builder.master(\"local[4]\").appName(\"session1\").getOrCreate()\n",
    "sc = spark.sparkContext\n",
    "product = sc.textFile(\"products.txt\")"
   ]
  },
  {
   "cell_type": "code",
   "execution_count": 3,
   "id": "6d93cb6c",
   "metadata": {},
   "outputs": [],
   "source": [
    "\"\"\"\n",
    "Start of pratical sessions part I\n",
    "\"\"\"\n",
    "def maxPrice(a, b):\n",
    "    if a>b:\n",
    "        return a\n",
    "    else:\n",
    "        return b\n",
    "\n",
    "def reduce_count(a, b):\n",
    "    return a+b\n",
    "\n",
    "def avg(a,b):\n",
    "    return 0.5*(a+b)\n"
   ]
  },
  {
   "cell_type": "code",
   "execution_count": null,
   "id": "6437c614",
   "metadata": {},
   "outputs": [],
   "source": []
  },
  {
   "cell_type": "code",
   "execution_count": 4,
   "id": "64aaf020",
   "metadata": {},
   "outputs": [
    {
     "name": "stderr",
     "output_type": "stream",
     "text": [
      "                                                                                \r"
     ]
    },
    {
     "data": {
      "text/plain": [
       "[(1, 'apple', 3.3, 'fruit'),\n",
       " (2, 'orange', 6.5, 'fruit'),\n",
       " (3, 'beer', 10.0, 'beverage'),\n",
       " (4, 'wine', 15.0, 'beverage'),\n",
       " (5, 'TAOCP1', 20.9, 'book'),\n",
       " (6, 'TAOCP2', 5.2, 'book'),\n",
       " (7, 'film1', 30.0, 'film'),\n",
       " (8, 'film2', 20.4, 'film'),\n",
       " (9, 'film3', 33.0, 'film'),\n",
       " (10, 'film4', 42.9, 'film'),\n",
       " (11, 'film5', 13.3, 'film'),\n",
       " (12, 'milk', 7.6, 'beverage'),\n",
       " (13, 'banana', 5.3, 'fruit'),\n",
       " (14, 'grapes', 7.5, 'fruit'),\n",
       " (15, 'soda', 4.0, 'beverage'),\n",
       " (16, 'water', 2.0, 'beverage'),\n",
       " (17, 's_water', 3.5, 'beverage'),\n",
       " (18, 'grappe', 8.2, 'fruit'),\n",
       " (19, 'pear', 7.0, 'fruit'),\n",
       " (20, 'strawberry', 9.0, 'fruit'),\n",
       " (21, 'plum', 4.4, 'fruit'),\n",
       " (22, 'mango', 17.5, 'fruit')]"
      ]
     },
     "execution_count": 4,
     "metadata": {},
     "output_type": "execute_result"
    }
   ],
   "source": [
    "#prod_header = [\"tid\", \"name\", \"price\", \"category\"]\n",
    "prod = product.map(lambda line: (line.split())).map(lambda line:(int(line[0]) , line[1], float(line[2]), line[3]))\n",
    "prod.collect()"
   ]
  },
  {
   "cell_type": "code",
   "execution_count": 5,
   "id": "89dbb8ec",
   "metadata": {},
   "outputs": [
    {
     "name": "stdout",
     "output_type": "stream",
     "text": [
      "Max price by categorie\n"
     ]
    },
    {
     "data": {
      "text/plain": [
       "[('beverage', 15.0), ('book', 20.9), ('fruit', 17.5), ('film', 42.9)]"
      ]
     },
     "execution_count": 5,
     "metadata": {},
     "output_type": "execute_result"
    }
   ],
   "source": [
    "maxpricebytcat = prod.map(lambda line : (line[3], line[2])).reduceByKey(maxPrice)\n",
    "print(\"Max price by categorie\")\n",
    "maxpricebytcat.collect()\n"
   ]
  },
  {
   "cell_type": "code",
   "execution_count": 6,
   "id": "c865511c",
   "metadata": {},
   "outputs": [
    {
     "data": {
      "text/plain": [
       "[(5, 'TAOCP1', 20.9, 'book'),\n",
       " (7, 'film1', 30.0, 'film'),\n",
       " (8, 'film2', 20.4, 'film'),\n",
       " (9, 'film3', 33.0, 'film'),\n",
       " (10, 'film4', 42.9, 'film')]"
      ]
     },
     "execution_count": 6,
     "metadata": {},
     "output_type": "execute_result"
    }
   ],
   "source": [
    "price = prod.filter(lambda line : line[2]>20)\n",
    "price.collect()"
   ]
  },
  {
   "cell_type": "code",
   "execution_count": 7,
   "id": "4f1611d8",
   "metadata": {},
   "outputs": [
    {
     "name": "stdout",
     "output_type": "stream",
     "text": [
      "Quantity of product by categorie\n"
     ]
    },
    {
     "data": {
      "text/plain": [
       "[('beverage', 6), ('book', 2), ('fruit', 9), ('film', 5)]"
      ]
     },
     "execution_count": 7,
     "metadata": {},
     "output_type": "execute_result"
    }
   ],
   "source": [
    "countbycat = prod.map(lambda line :(line[3], 1)).reduceByKey(reduce_count)\n",
    "print(\"Quantity of product by categorie\")\n",
    "countbycat.collect()"
   ]
  },
  {
   "cell_type": "code",
   "execution_count": 8,
   "id": "ae965f4c",
   "metadata": {},
   "outputs": [
    {
     "data": {
      "text/plain": [
       "[('beverage', 6.65),\n",
       " ('book', 13.049999999999999),\n",
       " ('fruit', 8.384375),\n",
       " ('film', 24.65)]"
      ]
     },
     "execution_count": 8,
     "metadata": {},
     "output_type": "execute_result"
    }
   ],
   "source": [
    "# 7)\n",
    "avgbycat = prod.map(lambda line: (line[3],line[2])).reduceByKey(avg)\n",
    "avgbycat.collect()"
   ]
  },
  {
   "cell_type": "code",
   "execution_count": 9,
   "id": "6184b030",
   "metadata": {},
   "outputs": [
    {
     "data": {
      "text/plain": [
       "[('beverage', 10.0),\n",
       " ('beverage', 15.0),\n",
       " ('beverage', 7.6),\n",
       " ('beverage', 4.0),\n",
       " ('beverage', 2.0),\n",
       " ('beverage', 3.5),\n",
       " ('book', 20.9),\n",
       " ('book', 5.2),\n",
       " ('film', 30.0),\n",
       " ('film', 20.4),\n",
       " ('film', 33.0),\n",
       " ('film', 42.9),\n",
       " ('film', 13.3),\n",
       " ('fruit', 3.3),\n",
       " ('fruit', 6.5),\n",
       " ('fruit', 5.3),\n",
       " ('fruit', 7.5),\n",
       " ('fruit', 8.2),\n",
       " ('fruit', 7.0),\n",
       " ('fruit', 9.0),\n",
       " ('fruit', 4.4),\n",
       " ('fruit', 17.5)]"
      ]
     },
     "execution_count": 9,
     "metadata": {},
     "output_type": "execute_result"
    }
   ],
   "source": [
    "avgbycat = prod.map(lambda line: (line[3],line[2])).sortByKey()#.reduceByKey(avg)\n",
    "avgbycat.collect()"
   ]
  },
  {
   "cell_type": "code",
   "execution_count": 10,
   "id": "edd4792f",
   "metadata": {},
   "outputs": [
    {
     "data": {
      "text/plain": [
       "[{'book': 13.049999999999999},\n",
       " {'beverage': 7.016666666666667},\n",
       " {'fruit': 7.633333333333332},\n",
       " {'film': 27.920000000000005}]"
      ]
     },
     "execution_count": 10,
     "metadata": {},
     "output_type": "execute_result"
    }
   ],
   "source": [
    "# 8)\n",
    "pricebycat = prod.map(lambda line :(line[3], (line[2],1))).sortByKey(False)\n",
    "pricebycat = pricebycat.reduceByKey(lambda x, y: (x[0]+y[0], x[1] + y[1]))\n",
    "avg_price = pricebycat.map(lambda line : {line[0]: (line[1][0]/line[1][1])})\n",
    "avg_price.collect()\n",
    "#pribycat = pricebycat.map(lambda line:(line, countbycat.collect()[0]))\n",
    "#pribycat.collect()"
   ]
  },
  {
   "cell_type": "code",
   "execution_count": null,
   "id": "0861a6fb",
   "metadata": {},
   "outputs": [],
   "source": []
  },
  {
   "cell_type": "code",
   "execution_count": 11,
   "id": "779cd3ce",
   "metadata": {},
   "outputs": [
    {
     "data": {
      "text/plain": [
       "[1, 1, 2, 2, 4, 6, 8, 10, 10, 10, 10, 12, 14]"
      ]
     },
     "execution_count": 11,
     "metadata": {},
     "output_type": "execute_result"
    }
   ],
   "source": [
    "################### Part III ###################\n",
    "file_A= sc.textFile(\"A.txt\")\n",
    "file_B= sc.textFile(\"B.txt\")\n",
    "file_A = file_A.map(lambda l: int(l))\n",
    "file_B = file_B.map(lambda l: int(l))\n",
    "file_A.collect()"
   ]
  },
  {
   "cell_type": "code",
   "execution_count": 12,
   "id": "d5014bc9",
   "metadata": {},
   "outputs": [
    {
     "data": {
      "text/plain": [
       "[1, 1, 1, 1, 1, 3, 5, 7, 9, 10, 10, 10, 12, 14, 16, 18, 20]"
      ]
     },
     "execution_count": 12,
     "metadata": {},
     "output_type": "execute_result"
    }
   ],
   "source": [
    "file_B.collect()"
   ]
  },
  {
   "cell_type": "code",
   "execution_count": 13,
   "id": "9fef6337",
   "metadata": {},
   "outputs": [
    {
     "data": {
      "text/plain": [
       "[1,\n",
       " 1,\n",
       " 2,\n",
       " 2,\n",
       " 4,\n",
       " 6,\n",
       " 8,\n",
       " 10,\n",
       " 10,\n",
       " 10,\n",
       " 10,\n",
       " 12,\n",
       " 14,\n",
       " 1,\n",
       " 1,\n",
       " 1,\n",
       " 1,\n",
       " 1,\n",
       " 3,\n",
       " 5,\n",
       " 7,\n",
       " 9,\n",
       " 10,\n",
       " 10,\n",
       " 10,\n",
       " 12,\n",
       " 14,\n",
       " 16,\n",
       " 18,\n",
       " 20]"
      ]
     },
     "execution_count": 13,
     "metadata": {},
     "output_type": "execute_result"
    }
   ],
   "source": [
    "\n",
    "file_union = file_A.union(file_B).map(lambda line:int(line))\n",
    "file_union.collect()\n"
   ]
  },
  {
   "cell_type": "code",
   "execution_count": 14,
   "id": "3c988289",
   "metadata": {},
   "outputs": [
    {
     "data": {
      "text/plain": [
       "[12, 1, 10, 14]"
      ]
     },
     "execution_count": 14,
     "metadata": {},
     "output_type": "execute_result"
    }
   ],
   "source": [
    "file_intersection = file_A.intersection(file_B).map(lambda line:int(line))\n",
    "file_intersection.collect()"
   ]
  },
  {
   "cell_type": "code",
   "execution_count": 15,
   "id": "53e228d7",
   "metadata": {},
   "outputs": [
    {
     "name": "stdout",
     "output_type": "stream",
     "text": [
      "15\n"
     ]
    },
    {
     "data": {
      "text/plain": [
       "[(1, 7),\n",
       " (2, 2),\n",
       " (3, 1),\n",
       " (4, 1),\n",
       " (5, 1),\n",
       " (6, 1),\n",
       " (7, 1),\n",
       " (8, 1),\n",
       " (9, 1),\n",
       " (10, 7),\n",
       " (12, 2),\n",
       " (14, 2),\n",
       " (16, 1),\n",
       " (18, 1),\n",
       " (20, 1)]"
      ]
     },
     "execution_count": 15,
     "metadata": {},
     "output_type": "execute_result"
    }
   ],
   "source": [
    "file_union_bis = file_A.map(lambda line: (line, 1)).union(file_B.map(lambda line: (line, 1)))\n",
    "file_union_bis = file_union_bis.map(lambda line: [line[0],1]).reduceByKey(lambda a,b : a+b)\n",
    "file_union_bis.sortByKey().collect()\n"
   ]
  },
  {
   "cell_type": "code",
   "execution_count": 39,
   "id": "73aeccb5",
   "metadata": {},
   "outputs": [],
   "source": [
    "file_A_reduce = file_A.map(lambda line: (line, 1)).reduceByKey(lambda a,b : a+b)\n",
    "file_B_reduce = file_B.map(lambda line: (line, 1)).reduceByKey(lambda a,b : a+b)\n",
    "\n",
    "def clean(line):\n",
    "    if(line[1][0] is None):\n",
    "        line = (line[0], (0, line[1][1]))\n",
    "    if(line[1][1] is None):\n",
    "        line = (line[0], (line[1][0],0))\n",
    "    return line\n",
    "\n",
    "def minim(a,b):\n",
    "    return min(a,b)\n"
   ]
  },
  {
   "cell_type": "code",
   "execution_count": 37,
   "id": "726e91aa",
   "metadata": {},
   "outputs": [
    {
     "data": {
      "text/plain": [
       "[(12, (1, 1)),\n",
       " (14, (1, 1)),\n",
       " (2, (2, 0)),\n",
       " (1, (2, 5)),\n",
       " (3, (0, 1)),\n",
       " (5, (0, 1)),\n",
       " (7, (0, 1)),\n",
       " (9, (0, 1)),\n",
       " (10, (4, 3)),\n",
       " (16, (0, 1)),\n",
       " (18, (0, 1)),\n",
       " (20, (0, 1)),\n",
       " (4, (1, 0)),\n",
       " (6, (1, 0)),\n",
       " (8, (1, 0))]"
      ]
     },
     "execution_count": 37,
     "metadata": {},
     "output_type": "execute_result"
    }
   ],
   "source": [
    "file_join = file_A_reduce.rightOuterJoin(file_B_reduce).union(file_A_reduce.leftOuterJoin(file_B_reduce))\n",
    "file_join = file_join.map(clean).distinct()#.reduceByKey(lambda a,b: a) # Enlévé les doublons\n",
    "file_join.collect()"
   ]
  },
  {
   "cell_type": "code",
   "execution_count": 40,
   "id": "9cf16072",
   "metadata": {},
   "outputs": [
    {
     "data": {
      "text/plain": [
       "[12, 14, 1, 1, 10, 10, 10]"
      ]
     },
     "execution_count": 40,
     "metadata": {},
     "output_type": "execute_result"
    }
   ],
   "source": [
    "def nTimes(line):\n",
    "    times = []\n",
    "    for i in range(line[1]):\n",
    "        times.append(line[0])\n",
    "    return times\n",
    "\n",
    "file_intersect = file_join.map(lambda line: (line[0], minim(line[1][0], line[1][1])))#.reduceByKey(minim)\n",
    "file_intersect = file_intersect.filter(lambda line: line[1]!=0).flatMap(nTimes)\n",
    "file_intersect.collect()"
   ]
  },
  {
   "cell_type": "code",
   "execution_count": 49,
   "id": "b2de8ea2",
   "metadata": {},
   "outputs": [],
   "source": [
    "def maxim(a, b):\n",
    "    print(max(0,abs(a-b)))\n",
    "    return max(0,abs(a-b))\n",
    "\n",
    "def symDif(a,b):\n",
    "    print(abs(max(a,b)-min(a,b)))\n",
    "    #print(\"{} - {}\".format(max(a,b),min(a,b)))\n",
    "    return abs(max(a,b)-min(a,b))"
   ]
  },
  {
   "cell_type": "code",
   "execution_count": 50,
   "id": "819eae8a",
   "metadata": {},
   "outputs": [
    {
     "name": "stderr",
     "output_type": "stream",
     "text": [
      "0\n",
      "0\n",
      "2\n",
      "3\n",
      "1\n",
      "1\n",
      "1\n",
      "1\n",
      "1\n",
      "1\n",
      "1\n",
      "1\n",
      "1\n",
      "1\n",
      "1\n"
     ]
    },
    {
     "data": {
      "text/plain": [
       "[2, 2, 1, 1, 1, 3, 5, 7, 9, 10, 16, 18, 20, 4, 6, 8]"
      ]
     },
     "execution_count": 50,
     "metadata": {},
     "output_type": "execute_result"
    }
   ],
   "source": [
    "file_intersect = file_join.map(lambda line: (line[0], maxim(line[1][0], line [1][1])))#file_intersect = file_intersect.filter(lambda line: line[1]!=0)\n",
    "file_intersect = file_intersect.filter(lambda line: line[1]!=0).flatMap(nTimes)\n",
    "file_intersect.collect()"
   ]
  },
  {
   "cell_type": "code",
   "execution_count": 51,
   "id": "70f84c65",
   "metadata": {},
   "outputs": [
    {
     "name": "stderr",
     "output_type": "stream",
     "text": [
      "1\n",
      "1\n",
      "1\n",
      "1\n",
      "1\n",
      "1\n",
      "1\n",
      "0\n",
      "0\n",
      "2\n",
      "3\n",
      "1\n",
      "1\n",
      "1\n",
      "1\n"
     ]
    },
    {
     "data": {
      "text/plain": [
       "[2, 2, 1, 1, 1, 3, 5, 7, 9, 10, 16, 18, 20, 4, 6, 8]"
      ]
     },
     "execution_count": 51,
     "metadata": {},
     "output_type": "execute_result"
    }
   ],
   "source": [
    "file_intersect = file_join.map(lambda line: (line[0], symDif(line[1][0], line [1][1])))#file_intersect = file_intersect.filter(lambda line: line[1]!=0)\n",
    "file_intersect = file_intersect.filter(lambda line: line[1]!=0).flatMap(nTimes)\n",
    "file_intersect.collect()"
   ]
  },
  {
   "cell_type": "code",
   "execution_count": null,
   "id": "5a4d3819",
   "metadata": {},
   "outputs": [],
   "source": []
  }
 ],
 "metadata": {
  "kernelspec": {
   "display_name": "Python 3 (ipykernel)",
   "language": "python",
   "name": "python3"
  },
  "language_info": {
   "codemirror_mode": {
    "name": "ipython",
    "version": 3
   },
   "file_extension": ".py",
   "mimetype": "text/x-python",
   "name": "python",
   "nbconvert_exporter": "python",
   "pygments_lexer": "ipython3",
   "version": "3.8.10"
  }
 },
 "nbformat": 4,
 "nbformat_minor": 5
}
