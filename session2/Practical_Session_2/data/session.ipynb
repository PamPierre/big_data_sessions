{
 "cells": [
  {
   "cell_type": "code",
   "execution_count": 6,
   "id": "9c772aeb",
   "metadata": {},
   "outputs": [
    {
     "name": "stderr",
     "output_type": "stream",
     "text": [
      "21/11/08 19:53:26 WARN Utils: Your hostname, pamousso-Latitude-E5530-non-vPro resolves to a loopback address: 127.0.1.1; using 192.168.1.13 instead (on interface wlp2s0)\n",
      "21/11/08 19:53:26 WARN Utils: Set SPARK_LOCAL_IP if you need to bind to another address\n",
      "WARNING: An illegal reflective access operation has occurred\n",
      "WARNING: Illegal reflective access by org.apache.spark.unsafe.Platform (file:/usr/local/spark/spark-3.1.2-bin-hadoop3.2/jars/spark-unsafe_2.12-3.1.2.jar) to constructor java.nio.DirectByteBuffer(long,int)\n",
      "WARNING: Please consider reporting this to the maintainers of org.apache.spark.unsafe.Platform\n",
      "WARNING: Use --illegal-access=warn to enable warnings of further illegal reflective access operations\n",
      "WARNING: All illegal access operations will be denied in a future release\n",
      "21/11/08 19:53:26 WARN NativeCodeLoader: Unable to load native-hadoop library for your platform... using builtin-java classes where applicable\n",
      "Using Spark's default log4j profile: org/apache/spark/log4j-defaults.properties\n",
      "Setting default log level to \"WARN\".\n",
      "To adjust logging level use sc.setLogLevel(newLevel). For SparkR, use setLogLevel(newLevel).\n"
     ]
    }
   ],
   "source": [
    "import findspark\n",
    "findspark.init()\n",
    "import pyspark\n",
    "from pyspark.sql import SparkSession \n",
    "from math import ceil,fsum\n",
    "spark = SparkSession.builder.master(\"local[4]\").appName(\"session1\").getOrCreate()\n",
    "sc = spark.sparkContext"
   ]
  },
  {
   "cell_type": "code",
   "execution_count": 7,
   "id": "43a9c19a",
   "metadata": {},
   "outputs": [],
   "source": [
    "## Part IV: Matrix Operations"
   ]
  },
  {
   "cell_type": "code",
   "execution_count": 38,
   "id": "6727dd51",
   "metadata": {},
   "outputs": [],
   "source": [
    "file_V = sc.textFile(\"V.txt\")\n",
    "file_W = sc.textFile(\"W.txt\")\n",
    "file_M = sc.textFile(\"M.txt\")"
   ]
  },
  {
   "cell_type": "code",
   "execution_count": 93,
   "id": "da1244fd",
   "metadata": {},
   "outputs": [
    {
     "data": {
      "text/plain": [
       "[(1, -1.5), (2, 2.0), (3, 2.3), (4, 2.0), (6, 2.5)]"
      ]
     },
     "execution_count": 93,
     "metadata": {},
     "output_type": "execute_result"
    }
   ],
   "source": [
    "def cleanMat(mat):\n",
    "    vect = [int(mat[i]) for i in range(len(mat)-1)]\n",
    "    vect.append(float(mat[-1]))\n",
    "    vect=tuple(vect)\n",
    "    return vect\n",
    "\n",
    "file_V_clean = file_V.map(lambda line: (line.split())).map(cleanMat)\n",
    "file_W_clean = file_W.map(lambda line: (line.split())).map(cleanMat)\n",
    "file_M_clean = file_M.map(lambda line: (line.split())).map(cleanMat)\n",
    "file_W_clean.collect()\n",
    "# V = [(1, 1.5), (2, 5.0), (4, 1.3), (7, 3.0)]\n",
    "# W = [(1, -1.5), (2, 2.0), (3, 2.3), (4, 2.0), (6, 2.5)]"
   ]
  },
  {
   "cell_type": "code",
   "execution_count": 10,
   "id": "0cc33b57",
   "metadata": {},
   "outputs": [],
   "source": [
    "#2) The L2 norm of a vector V is norm(V) = sqrt(V1*V1 + V2*V2 + ... +Vn*Vn)\n",
    "file_V_l2_norm = round(sqrt(file_V_clean.map(lambda line: pow(line[-1],2)).sum()),3)\n",
    "file_V_l2_norm"
   ]
  },
  {
   "cell_type": "code",
   "execution_count": 72,
   "id": "34c3710d",
   "metadata": {
    "scrolled": false
   },
   "outputs": [
    {
     "data": {
      "text/plain": [
       "6.16"
      ]
     },
     "execution_count": 72,
     "metadata": {},
     "output_type": "execute_result"
    }
   ],
   "source": [
    "# 3) We want to compute the vector sum U = V + W. \n",
    "file_V__W = file_V_clean.union(file_W_clean)\n",
    "file_V_W_sum = file_V__W.reduceByKey(lambda a,b : a+b).filter(lambda line: line[1]!=0.0).sortByKey()\n",
    "file_V_W.collect()"
   ]
  },
  {
   "cell_type": "code",
   "execution_count": 84,
   "id": "8265cdbc",
   "metadata": {},
   "outputs": [
    {
     "data": {
      "text/plain": [
       "[(4, (1.3, 2.0)), (1, (1.5, -1.5)), (2, (5.0, 2.0))]"
      ]
     },
     "execution_count": 84,
     "metadata": {},
     "output_type": "execute_result"
    }
   ],
   "source": [
    "# 4) We want to compute the dot product of two vectors\n",
    "file_V_W_dot = file_V_clean.join(file_W_clean).map(lambda line : line[1])\n",
    "file_V_W_dot =file_V_W_dot.map(lambda line:(line[0]*line[1])).sum()"
   ]
  },
  {
   "cell_type": "code",
   "execution_count": 92,
   "id": "e04866a2",
   "metadata": {},
   "outputs": [
    {
     "data": {
      "text/plain": [
       "10.35"
      ]
     },
     "execution_count": 92,
     "metadata": {},
     "output_type": "execute_result"
    }
   ],
   "source": []
  },
  {
   "cell_type": "code",
   "execution_count": 13,
   "id": "bf7a3798",
   "metadata": {},
   "outputs": [
    {
     "name": "stderr",
     "output_type": "stream",
     "text": [
      "                                                                                \r"
     ]
    },
    {
     "data": {
      "text/plain": [
       "[(1, ((1, 1.5), (1, -1.5))),\n",
       " (2, ((2, 5), (2, 2))),\n",
       " (3, ((4, 1.3), (3, 2.3))),\n",
       " (4, ((7, 3), (4, 2)))]"
      ]
     },
     "execution_count": 13,
     "metadata": {},
     "output_type": "execute_result"
    }
   ],
   "source": []
  },
  {
   "cell_type": "code",
   "execution_count": 14,
   "id": "92ca15dd",
   "metadata": {},
   "outputs": [
    {
     "data": {
      "text/plain": [
       "61.74"
      ]
     },
     "execution_count": 14,
     "metadata": {},
     "output_type": "execute_result"
    }
   ],
   "source": []
  },
  {
   "cell_type": "markdown",
   "id": "852e24a7",
   "metadata": {},
   "source": [
    "### Now, we want to compute the matrix vector product T = M.V.\n",
    "The vector T must also be represented in a RDD using a sparse coding.\n",
    "\n",
    "    [(1, 1.5), \n",
    "     (2, 5), \n",
    "     (4, 1.3), =>(3, 1.3)\n",
    "     (7, 3)] => (4, 3)\n",
    "\n",
    "    [(1, 1, 3.2),\n",
    "     (1, 2, 2.4),\n",
    "     (1, 3, 7),\n",
    "     (1, 4, 2),\n",
    "     (2, 2, 7.1),\n",
    "     (2, 3, -1),\n",
    "     (3, 3, 1)] \n",
    "     \n",
    "      1   2   3  4\n",
    "    1 3.2 2.4 7  2 => 19.4 =>1\n",
    "    2 0  7.1 -1  0 => 35.5 =>2\n",
    "    3 0   0   1  0 => 0    =>3\n",
    "      ------------\n",
    "      1.5 5  0  1.3\n",
    "      \n",
    " [(1,1) (1.5, 3.2)), (1,2), (5.0, 2.4)), (2, (5.0, 7.1)), (1,4), (1.3, 2.0)),(2,2),(5,2))\n",
    "    \n"
   ]
  },
  {
   "cell_type": "code",
   "execution_count": 115,
   "id": "25720606",
   "metadata": {},
   "outputs": [
    {
     "data": {
      "text/plain": [
       "[((1, 1), 3.2),\n",
       " ((1, 2), 2.4),\n",
       " ((1, 3), 7.0),\n",
       " ((1, 4), 2.0),\n",
       " ((2, 2), 7.1),\n",
       " ((2, 3), -1.0),\n",
       " ((3, 3), 1.0)]"
      ]
     },
     "execution_count": 115,
     "metadata": {},
     "output_type": "execute_result"
    }
   ],
   "source": [
    "file_M_bis =file_M_clean.map(lambda line: ((line[0],line[1]),line[2]))"
   ]
  },
  {
   "cell_type": "code",
   "execution_count": 156,
   "id": "489e410d",
   "metadata": {},
   "outputs": [
    {
     "data": {
      "text/plain": [
       "[((1, 1), 3.2),\n",
       " ((1, 2), 2.4),\n",
       " ((1, 3), 7.0),\n",
       " ((1, 4), 2.0),\n",
       " ((2, 2), 7.1),\n",
       " ((2, 3), -1.0),\n",
       " ((3, 3), 1.0)]"
      ]
     },
     "execution_count": 156,
     "metadata": {},
     "output_type": "execute_result"
    }
   ],
   "source": [
    "file_M_bis.collect()"
   ]
  },
  {
   "cell_type": "code",
   "execution_count": 188,
   "id": "38219fb8",
   "metadata": {},
   "outputs": [
    {
     "data": {
      "text/plain": [
       "[((1, 1), 1.5),\n",
       " ((1, 2), 5.0),\n",
       " ((1, 4), 1.3),\n",
       " ((1, 7), 3.0),\n",
       " ((2, 1), 1.5),\n",
       " ((2, 2), 5.0),\n",
       " ((2, 4), 1.3),\n",
       " ((2, 7), 3.0),\n",
       " ((3, 1), 1.5),\n",
       " ((3, 2), 5.0),\n",
       " ((3, 4), 1.3),\n",
       " ((3, 7), 3.0)]"
      ]
     },
     "execution_count": 188,
     "metadata": {},
     "output_type": "execute_result"
    }
   ],
   "source": [
    "def dot_prod(vector):\n",
    "    mat = file_M_bis.collect()\n",
    "    indice=[1 for i in range(len(mat)) if((mat[i][0][0]!=mat[i-1][0][0]))]\n",
    "    rddV = []\n",
    "    for i in range(len(indice)):\n",
    "        rddV.append(vector.map(lambda line:((i+1,line[0]),line[1])).collect())\n",
    "    rddV = sc.parallelize(rddV)\n",
    "    return rddV.flatMap(lambda line: line)\n",
    "v = dot_prod(file_V_clean)"
   ]
  },
  {
   "cell_type": "code",
   "execution_count": 157,
   "id": "5809c723",
   "metadata": {},
   "outputs": [
    {
     "data": {
      "text/plain": [
       "[(1, 19.4), (2, 35.5)]"
      ]
     },
     "execution_count": 157,
     "metadata": {},
     "output_type": "execute_result"
    }
   ],
   "source": [
    "m_v_ = file_M_bis.join(v).sortByKey()\n",
    "m_v=m_v_.map(lambda line: (line[0][0], line[1])).map(lambda line: (line[0],line[1][0]*line[1][1]))\n",
    "m_v.reduceByKey(lambda a,b : round(a+b,3))"
   ]
  },
  {
   "cell_type": "code",
   "execution_count": 158,
   "id": "80eedd29",
   "metadata": {},
   "outputs": [
    {
     "data": {
      "text/plain": [
       "[((1, 1), (3.2, 1.5)),\n",
       " ((1, 2), (2.4, 5.0)),\n",
       " ((1, 4), (2.0, 1.3)),\n",
       " ((2, 2), (7.1, 5.0))]"
      ]
     },
     "execution_count": 158,
     "metadata": {},
     "output_type": "execute_result"
    }
   ],
   "source": [
    "m_v_.collect()"
   ]
  },
  {
   "cell_type": "code",
   "execution_count": 212,
   "id": "5a675ae3",
   "metadata": {},
   "outputs": [],
   "source": [
    "# 7) (optional) write a program that computes the largest eigenvalue of matrix M. \n",
    "import random\n",
    "v0 = sc.parallelize([(i,random.randrange(1,10000)) for i in range(1,4)])"
   ]
  },
  {
   "cell_type": "code",
   "execution_count": 213,
   "id": "b26ddb8e",
   "metadata": {},
   "outputs": [
    {
     "name": "stdout",
     "output_type": "stream",
     "text": [
      "6.573481738497154\n",
      "4.863890721886076\n",
      "5.2279363614867105\n",
      "6.033690986347139\n",
      "6.604231943076061\n",
      "6.882367027729716\n",
      "7.005300333950834\n",
      "7.056887826460993\n",
      "7.080761688863736\n",
      "7.0919423810196305\n",
      "7.095782853919911\n",
      "7.098197576099211\n",
      "7.099930684699915\n",
      "7.099109577464789\n",
      "7.1004371038174385\n",
      "7.100288732394366\n",
      "7.100288732394366\n",
      "7.100288732394366\n",
      "7.100288732394366\n",
      "7.100288732394366\n",
      "7.100288732394366\n",
      "7.100288732394366\n",
      "7.100288732394366\n",
      "7.100288732394366\n",
      "7.100288732394366\n",
      "7.100288732394366\n",
      "7.100288732394366\n",
      "7.100288732394366\n",
      "7.100288732394366\n",
      "7.100288732394366\n",
      "7.100288732394366\n",
      "7.100288732394366\n",
      "7.100288732394366\n",
      "7.100288732394366\n",
      "7.100288732394366\n",
      "7.100288732394366\n",
      "7.100288732394366\n",
      "7.100288732394366\n",
      "7.100288732394366\n",
      "7.100288732394366\n",
      "7.100288732394366\n",
      "7.100288732394366\n",
      "7.100288732394366\n",
      "7.100288732394366\n",
      "7.100288732394366\n",
      "7.100288732394366\n",
      "7.100288732394366\n",
      "7.100288732394366\n",
      "7.100288732394366\n",
      "7.100288732394366\n"
     ]
    }
   ],
   "source": [
    "vi = v0\n",
    "for i in range(50):\n",
    "    norm_vi =round(sqrt(vi.map(lambda line: pow(line[-1],2)).sum()),3)\n",
    "    n_vi = vi.map(lambda v:(v[0], v[1]/norm_vi))\n",
    "    vi=dot_prod(n_vi)\n",
    "    m_v_ = file_M_bis.join(vi).sortByKey()\n",
    "    m_v=m_v_.map(lambda line: (line[0][0], line[1])).map(lambda line: (line[0],line[1][0]*line[1][1]))\n",
    "    m_v=m_v.reduceByKey(lambda a,b : round(a+b,3))\n",
    "    vi=m_v\n",
    "    l = vi.join(n_vi).map(lambda line:(line[0], line[1][0]*line[1][1])).map(lambda line: line[1]).sum()\n",
    "    print(l)"
   ]
  },
  {
   "cell_type": "code",
   "execution_count": null,
   "id": "0f88cdb7",
   "metadata": {},
   "outputs": [],
   "source": []
  },
  {
   "cell_type": "code",
   "execution_count": null,
   "id": "420aa0f0",
   "metadata": {},
   "outputs": [],
   "source": []
  }
 ],
 "metadata": {
  "celltoolbar": "Raw Cell Format",
  "kernelspec": {
   "display_name": "Python 3 (ipykernel)",
   "language": "python",
   "name": "python3"
  },
  "language_info": {
   "codemirror_mode": {
    "name": "ipython",
    "version": 3
   },
   "file_extension": ".py",
   "mimetype": "text/x-python",
   "name": "python",
   "nbconvert_exporter": "python",
   "pygments_lexer": "ipython3",
   "version": "3.8.10"
  }
 },
 "nbformat": 4,
 "nbformat_minor": 5
}
