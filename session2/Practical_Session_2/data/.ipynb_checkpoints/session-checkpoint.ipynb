{
 "cells": [
  {
   "cell_type": "code",
   "execution_count": 1,
   "id": "9c772aeb",
   "metadata": {},
   "outputs": [
    {
     "name": "stderr",
     "output_type": "stream",
     "text": [
      "21/11/05 23:30:49 WARN Utils: Your hostname, pamousso-Latitude-E5530-non-vPro resolves to a loopback address: 127.0.1.1; using 192.168.1.13 instead (on interface wlp2s0)\n",
      "21/11/05 23:30:49 WARN Utils: Set SPARK_LOCAL_IP if you need to bind to another address\n",
      "WARNING: An illegal reflective access operation has occurred\n",
      "WARNING: Illegal reflective access by org.apache.spark.unsafe.Platform (file:/usr/local/spark/spark-3.1.2-bin-hadoop3.2/jars/spark-unsafe_2.12-3.1.2.jar) to constructor java.nio.DirectByteBuffer(long,int)\n",
      "WARNING: Please consider reporting this to the maintainers of org.apache.spark.unsafe.Platform\n",
      "WARNING: Use --illegal-access=warn to enable warnings of further illegal reflective access operations\n",
      "WARNING: All illegal access operations will be denied in a future release\n",
      "21/11/05 23:30:50 WARN NativeCodeLoader: Unable to load native-hadoop library for your platform... using builtin-java classes where applicable\n",
      "Using Spark's default log4j profile: org/apache/spark/log4j-defaults.properties\n",
      "Setting default log level to \"WARN\".\n",
      "To adjust logging level use sc.setLogLevel(newLevel). For SparkR, use setLogLevel(newLevel).\n"
     ]
    }
   ],
   "source": [
    "import findspark\n",
    "findspark.init()\n",
    "import pyspark\n",
    "from pyspark.sql import SparkSession \n",
    "from math import ceil,fsum\n",
    "spark = SparkSession.builder.master(\"local[4]\").appName(\"session1\").getOrCreate()\n",
    "sc = spark.sparkContext"
   ]
  },
  {
   "cell_type": "code",
   "execution_count": 2,
   "id": "43a9c19a",
   "metadata": {},
   "outputs": [],
   "source": [
    "## Part IV: Matrix Operations"
   ]
  },
  {
   "cell_type": "code",
   "execution_count": 3,
   "id": "6727dd51",
   "metadata": {},
   "outputs": [],
   "source": [
    "file_V = sc.textFile(\"V.txt\")\n",
    "file_W = sc.textFile(\"W.txt\")\n",
    "file_M = sc.textFile(\"M.txt\")"
   ]
  },
  {
   "cell_type": "code",
   "execution_count": 51,
   "id": "da1244fd",
   "metadata": {},
   "outputs": [
    {
     "data": {
      "text/plain": [
       "[(1, 1.5), (2, 5), (4, 1.3), (7, 3)]"
      ]
     },
     "execution_count": 51,
     "metadata": {},
     "output_type": "execute_result"
    }
   ],
   "source": [
    "def cleanMat(mat):\n",
    "    for i in range(len(mat)):\n",
    "        if (mat[i]).find('.')==-1:\n",
    "            mat[i] = int(mat[i])\n",
    "        else: mat[i] = float(mat[i])\n",
    "    mat=tuple(mat)\n",
    "    return mat\n",
    "\n",
    "file_V_clean = file_V.map(lambda line: (line.split())).map(cleanMat)\n",
    "file_W_clean = file_W.map(lambda line: (line.split())).map(cleanMat)\n",
    "file_M_clean = file_M.map(lambda line: (line.split())).map(cleanMat)\n",
    "file_V_clean.collect()"
   ]
  },
  {
   "cell_type": "code",
   "execution_count": 5,
   "id": "0cc33b57",
   "metadata": {},
   "outputs": [],
   "source": [
    "#2) The L2 norm of a vector V is norm(V) = sqrt(V1*V1 + V2*V2 + ... +Vn*Vn)\n",
    "from math import sqrt\n",
    "def l2_norm(mat):\n",
    "    result_sum = 0\n",
    "    for vector in mat[1]:\n",
    "        result_sum+= pow(vector, 2)\n",
    "    l2_norm_value = sqrt(result_sum)\n",
    "    return round(l2_norm_value,3)\n",
    "\n",
    "def sum_2_matrice(mat_A, mat_B):\n",
    "    mat_sum = list()\n",
    "    val = list()\n",
    "    if(len(mat_A)!=len(mat_B)):\n",
    "        mat_A, mat_B = normalize_lenght(mat_A, mat_B) # Normalisation of the lenght\n",
    "    for vA,vB in zip(mat_A, mat_B):\n",
    "        val.clear()\n",
    "        for i, j in zip(vA,vB):\n",
    "            val.append((round(i+j,3))) # Sum of the coordonate\n",
    "        mat_sum.append(tuple(val))\n",
    "    return mat_sum\n",
    "    \n",
    "    \n",
    "def normalize_lenght(mat_A, mat_B):\n",
    "    dif = abs(len(mat_A)-len(mat_B))\n",
    "    if(len(mat_A)<len(mat_B)):\n",
    "        for i in range(dif):\n",
    "            mat_A.append((0,0))\n",
    "    else:\n",
    "        for i in range(dif):\n",
    "            mat_B.append((0,0))\n",
    "    return mat_A, mat_B"
   ]
  },
  {
   "cell_type": "code",
   "execution_count": 6,
   "id": "34c3710d",
   "metadata": {
    "scrolled": false
   },
   "outputs": [
    {
     "data": {
      "text/plain": [
       "10.389"
      ]
     },
     "execution_count": 6,
     "metadata": {},
     "output_type": "execute_result"
    }
   ],
   "source": [
    "file_V_l2_norm = l2_norm(file_V_clean.collect())\n",
    "file_V_l2_norm"
   ]
  },
  {
   "cell_type": "code",
   "execution_count": 7,
   "id": "e04866a2",
   "metadata": {},
   "outputs": [
    {
     "data": {
      "text/plain": [
       "[2, 4, 7, 7, 3.6, 11, 5, 6, 2.5]"
      ]
     },
     "execution_count": 7,
     "metadata": {},
     "output_type": "execute_result"
    }
   ],
   "source": [
    "# 3) We want to compute the vector sum U = V + W. \n",
    "result = sum_2_matrice(file_V_clean.collect(),file_W_clean.collect())\n",
    "file_U = sc.parallelize(result).flatMap(lambda line: line).filter(lambda line: line!=0)\n",
    "file_U.collect()\n"
   ]
  },
  {
   "cell_type": "code",
   "execution_count": 37,
   "id": "bf7a3798",
   "metadata": {},
   "outputs": [
    {
     "data": {
      "text/plain": [
       "[(1, ((1, 1.5), (1, -1.5))),\n",
       " (2, ((2, 5), (2, 2))),\n",
       " (3, ((4, 1.3), (3, 2.3))),\n",
       " (4, ((7, 3), (4, 2)))]"
      ]
     },
     "execution_count": 37,
     "metadata": {},
     "output_type": "execute_result"
    }
   ],
   "source": [
    "# 4) We want to compute the dot product of two vectors\n",
    "# V.W = V1.W1 + V2.W2 + ... + Vn.Wn \n",
    "# [(1, 1.5), (2, 5), (4, 1.3), (7, 3)]\n",
    "# [(1, -1.5), (2, 2), (3, 2.3), (4, 2), (6, 2.5)]\n",
    "# [[(1,15), (1,1.5)],[(2, 5),(2, 2)]]\n",
    "\n",
    "def process(mat):\n",
    "    matRdd = [(i,line) for i,line in zip(range(1,len(mat)+1),mat)]\n",
    "    return matRdd\n",
    "\n",
    "#dotsum = [(v*w) for v,w in zip((1, 1.5), (1, -1.5))]\n",
    "\n",
    "file_v = process(file_V_clean.collect())\n",
    "file_v = sc.parallelize(file_v)\n",
    "\n",
    "file_w = process(file_W_clean.collect())\n",
    "file_w = sc.parallelize(file_w)\n",
    "dot_prod = file_v.join(file_w)\n",
    "dot_prod.collect()\n",
    "#dotsum"
   ]
  },
  {
   "cell_type": "code",
   "execution_count": 49,
   "id": "92ca15dd",
   "metadata": {},
   "outputs": [
    {
     "data": {
      "text/plain": [
       "61.74"
      ]
     },
     "execution_count": 49,
     "metadata": {},
     "output_type": "execute_result"
    }
   ],
   "source": [
    "dot_prod = file_v.join(file_w)\n",
    "dot_prod = dot_prod.map(lambda line: (line[1][0], line[1][1]))\n",
    "dot_prod.collect()\n",
    "dot_prod_sum=dot_prod.map(lambda line: (line[0][0]*line[1][0]+line[0][1]*line[1][1])).sum()\n",
    "dot_prod_sum"
   ]
  },
  {
   "cell_type": "markdown",
   "id": "852e24a7",
   "metadata": {},
   "source": [
    "### Now, we want to compute the matrix vector product T = M.V.\n",
    "The vector T must also be represented in a RDD using a sparse coding.\n",
    "\n",
    "    [(1, 1.5), \n",
    "     (2, 5), \n",
    "     (4, 1.3), \n",
    "     (7, 3)]\n",
    "\n",
    "    [(1, 1, 3.2),\n",
    "     (1, 2, 2.4),\n",
    "     (1, 3, 7),\n",
    "     (1, 4, 2),\n",
    "     (2, 2, 7.1),\n",
    "     (2, 3, -1),\n",
    "     (3, 3, 1)] \n"
   ]
  },
  {
   "cell_type": "code",
   "execution_count": 73,
   "id": "25720606",
   "metadata": {},
   "outputs": [
    {
     "data": {
      "text/plain": [
       "[(1, (1, 1, 3.2, 0)),\n",
       " (2, (1, 2, 2.4, 0)),\n",
       " (3, (1, 3, 7, 0)),\n",
       " (4, (1, 4, 2, 0)),\n",
       " (5, (2, 2, 7.1, 0)),\n",
       " (6, (2, 3, -1, 0)),\n",
       " (7, (3, 3, 1, 0))]"
      ]
     },
     "execution_count": 73,
     "metadata": {},
     "output_type": "execute_result"
    }
   ],
   "source": [
    "file_m = process(file_M_clean.collect())\n",
    "m_I_J= sc.parallelize(file_m).map(lambda line: (line[0],(line[1][0],line[1][1],line[1][2],0)))\n",
    "m_I_J.collect()"
   ]
  },
  {
   "cell_type": "code",
   "execution_count": 66,
   "id": "489e410d",
   "metadata": {},
   "outputs": [
    {
     "data": {
      "text/plain": [
       "[(1, 1.5), (2, 5), (4, 1.3), (7, 3)]"
      ]
     },
     "execution_count": 66,
     "metadata": {},
     "output_type": "execute_result"
    }
   ],
   "source": []
  },
  {
   "cell_type": "code",
   "execution_count": 83,
   "id": "38219fb8",
   "metadata": {},
   "outputs": [],
   "source": [
    "def normalizeDotMat(mat, v):\n",
    "    new_v=[(j,tuple(v)) for j in range(1, len(mat)+1)]\n",
    "    return sc.parallelize(new_v)"
   ]
  },
  {
   "cell_type": "code",
   "execution_count": 84,
   "id": "5809c723",
   "metadata": {},
   "outputs": [
    {
     "data": {
      "text/plain": [
       "[(1, ((1, 1.5), (2, 5), (4, 1.3), (7, 3))),\n",
       " (2, ((1, 1.5), (2, 5), (4, 1.3), (7, 3))),\n",
       " (3, ((1, 1.5), (2, 5), (4, 1.3), (7, 3))),\n",
       " (4, ((1, 1.5), (2, 5), (4, 1.3), (7, 3))),\n",
       " (5, ((1, 1.5), (2, 5), (4, 1.3), (7, 3))),\n",
       " (6, ((1, 1.5), (2, 5), (4, 1.3), (7, 3))),\n",
       " (7, ((1, 1.5), (2, 5), (4, 1.3), (7, 3)))]"
      ]
     },
     "execution_count": 84,
     "metadata": {},
     "output_type": "execute_result"
    }
   ],
   "source": [
    "vJ=normalizeDotMat(m_I_J.collect(), file_V_clean.collect())\n",
    "vJ.collect()"
   ]
  },
  {
   "cell_type": "code",
   "execution_count": 85,
   "id": "80eedd29",
   "metadata": {},
   "outputs": [
    {
     "data": {
      "text/plain": [
       "[(1, ((1, 1, 3.2, 0), ((1, 1.5), (2, 5), (4, 1.3), (7, 3)))),\n",
       " (2, ((1, 2, 2.4, 0), ((1, 1.5), (2, 5), (4, 1.3), (7, 3)))),\n",
       " (3, ((1, 3, 7, 0), ((1, 1.5), (2, 5), (4, 1.3), (7, 3)))),\n",
       " (4, ((1, 4, 2, 0), ((1, 1.5), (2, 5), (4, 1.3), (7, 3)))),\n",
       " (5, ((2, 2, 7.1, 0), ((1, 1.5), (2, 5), (4, 1.3), (7, 3)))),\n",
       " (6, ((2, 3, -1, 0), ((1, 1.5), (2, 5), (4, 1.3), (7, 3)))),\n",
       " (7, ((3, 3, 1, 0), ((1, 1.5), (2, 5), (4, 1.3), (7, 3))))]"
      ]
     },
     "execution_count": 85,
     "metadata": {},
     "output_type": "execute_result"
    }
   ],
   "source": [
    "m_i_j_Dot_vJ = m_I_J.join(vJ)\n",
    "m_i_j_Dot_vJ.collect()"
   ]
  },
  {
   "cell_type": "code",
   "execution_count": null,
   "id": "5a675ae3",
   "metadata": {},
   "outputs": [],
   "source": []
  }
 ],
 "metadata": {
  "kernelspec": {
   "display_name": "Python 3 (ipykernel)",
   "language": "python",
   "name": "python3"
  },
  "language_info": {
   "codemirror_mode": {
    "name": "ipython",
    "version": 3
   },
   "file_extension": ".py",
   "mimetype": "text/x-python",
   "name": "python",
   "nbconvert_exporter": "python",
   "pygments_lexer": "ipython3",
   "version": "3.8.10"
  }
 },
 "nbformat": 4,
 "nbformat_minor": 5
}
